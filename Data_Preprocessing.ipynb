{
 "cells": [
  {
   "cell_type": "code",
   "execution_count": 2,
   "metadata": {},
   "outputs": [
    {
     "name": "stdout",
     "output_type": "stream",
     "text": [
      "Requirement already satisfied: yfinance in c:\\users\\ruben\\appdata\\local\\programs\\python\\python310\\lib\\site-packages (0.1.70)\n",
      "Requirement already satisfied: lxml>=4.5.1 in c:\\users\\ruben\\appdata\\local\\programs\\python\\python310\\lib\\site-packages (from yfinance) (4.9.0)\n",
      "Requirement already satisfied: requests>=2.26 in c:\\users\\ruben\\appdata\\local\\programs\\python\\python310\\lib\\site-packages (from yfinance) (2.27.1)\n",
      "Requirement already satisfied: pandas>=0.24.0 in c:\\users\\ruben\\appdata\\local\\programs\\python\\python310\\lib\\site-packages (from yfinance) (1.3.5)\n",
      "Requirement already satisfied: numpy>=1.15 in c:\\users\\ruben\\appdata\\local\\programs\\python\\python310\\lib\\site-packages (from yfinance) (1.22.0)\n",
      "Note: you may need to restart the kernel to use updated packages.Requirement already satisfied: multitasking>=0.0.7 in c:\\users\\ruben\\appdata\\local\\programs\\python\\python310\\lib\\site-packages (from yfinance) (0.0.10)\n"
     ]
    },
    {
     "name": "stderr",
     "output_type": "stream",
     "text": [
      "WARNING: You are using pip version 21.2.4; however, version 22.1.2 is available.\n",
      "You should consider upgrading via the 'c:\\Users\\Ruben\\AppData\\Local\\Programs\\Python\\Python310\\python.exe -m pip install --upgrade pip' command.\n"
     ]
    },
    {
     "name": "stdout",
     "output_type": "stream",
     "text": [
      "\n",
      "Requirement already satisfied: pytz>=2017.3 in c:\\users\\ruben\\appdata\\local\\programs\\python\\python310\\lib\\site-packages (from pandas>=0.24.0->yfinance) (2021.3)\n",
      "Requirement already satisfied: python-dateutil>=2.7.3 in c:\\users\\ruben\\appdata\\local\\programs\\python\\python310\\lib\\site-packages (from pandas>=0.24.0->yfinance) (2.8.2)\n",
      "Requirement already satisfied: six>=1.5 in c:\\users\\ruben\\appdata\\local\\programs\\python\\python310\\lib\\site-packages (from python-dateutil>=2.7.3->pandas>=0.24.0->yfinance) (1.16.0)\n",
      "Requirement already satisfied: certifi>=2017.4.17 in c:\\users\\ruben\\appdata\\local\\programs\\python\\python310\\lib\\site-packages (from requests>=2.26->yfinance) (2021.10.8)\n",
      "Requirement already satisfied: urllib3<1.27,>=1.21.1 in c:\\users\\ruben\\appdata\\local\\programs\\python\\python310\\lib\\site-packages (from requests>=2.26->yfinance) (1.26.8)\n",
      "Requirement already satisfied: charset-normalizer~=2.0.0 in c:\\users\\ruben\\appdata\\local\\programs\\python\\python310\\lib\\site-packages (from requests>=2.26->yfinance) (2.0.10)\n",
      "Requirement already satisfied: idna<4,>=2.5 in c:\\users\\ruben\\appdata\\local\\programs\\python\\python310\\lib\\site-packages (from requests>=2.26->yfinance) (3.3)\n"
     ]
    }
   ],
   "source": [
    "%pip install yfinance"
   ]
  },
  {
   "cell_type": "code",
   "execution_count": 2,
   "metadata": {},
   "outputs": [],
   "source": [
    "import pandas as pd\n",
    "import numpy as np\n",
    "import yfinance as yf\n"
   ]
  },
  {
   "cell_type": "code",
   "execution_count": 6,
   "metadata": {},
   "outputs": [],
   "source": [
    "stock_symbols_ftse_mib = [\"A2A.MI\", \"AMP.MI\", \"ATL.MI\", \"AZM.MI\", \"BAMI.MI\", \"BGN.MI\", \"BMED.MI\", \"BPE.MI\", \"BZU.MI\", \"CNHI.MI\", \"CPR.MI\", \"DIA.MI\", \"ENEL.MI\", \"ENI.MI\", \"EXO.MI\", \"FBK.MI\", \"G.MI\", \"HER.MI\",\n",
    "                          \"IG.MI\", \"INW.MI\", \"IP.MI\", \"ISP.MI\", \"LDO.MI\", \"MB.MI\", \"MONC.MI\", \"NEXI.MI\", \"PIRC.MI\", \"PRY.MI\", \"PST.MI\", \"RACE.MI\", \"REC.MI\", \"SPM.MI\", \"SRG.MI\", \"STLA.MI\", \"STM.MI\", \"TEN.MI\", \"TIT.MI\", \"TRN.MI\", \"UCG.MI\", \"UNI.MI\", \"FTSEMIB.MI\"]\n"
   ]
  },
  {
   "cell_type": "code",
   "execution_count": 52,
   "metadata": {},
   "outputs": [
    {
     "name": "stdout",
     "output_type": "stream",
     "text": [
      "[*********************100%***********************]  1 of 1 completed\n",
      "[*********************100%***********************]  1 of 1 completed\n",
      "[*********************100%***********************]  1 of 1 completed\n",
      "[*********************100%***********************]  1 of 1 completed\n",
      "[*********************100%***********************]  1 of 1 completed\n",
      "[*********************100%***********************]  1 of 1 completed\n",
      "[*********************100%***********************]  1 of 1 completed\n",
      "[*********************100%***********************]  1 of 1 completed\n",
      "[*********************100%***********************]  1 of 1 completed\n",
      "[*********************100%***********************]  1 of 1 completed\n",
      "[*********************100%***********************]  1 of 1 completed\n",
      "[*********************100%***********************]  1 of 1 completed\n",
      "[*********************100%***********************]  1 of 1 completed\n",
      "[*********************100%***********************]  1 of 1 completed\n",
      "[*********************100%***********************]  1 of 1 completed\n",
      "[*********************100%***********************]  1 of 1 completed\n",
      "[*********************100%***********************]  1 of 1 completed\n",
      "[*********************100%***********************]  1 of 1 completed\n",
      "[*********************100%***********************]  1 of 1 completed\n",
      "[*********************100%***********************]  1 of 1 completed\n",
      "[*********************100%***********************]  1 of 1 completed\n",
      "[*********************100%***********************]  1 of 1 completed\n",
      "[*********************100%***********************]  1 of 1 completed\n",
      "[*********************100%***********************]  1 of 1 completed\n",
      "[*********************100%***********************]  1 of 1 completed\n",
      "[*********************100%***********************]  1 of 1 completed\n",
      "[*********************100%***********************]  1 of 1 completed\n",
      "[*********************100%***********************]  1 of 1 completed\n",
      "[*********************100%***********************]  1 of 1 completed\n",
      "[*********************100%***********************]  1 of 1 completed\n",
      "[*********************100%***********************]  1 of 1 completed\n",
      "[*********************100%***********************]  1 of 1 completed\n",
      "[*********************100%***********************]  1 of 1 completed\n",
      "[*********************100%***********************]  1 of 1 completed\n",
      "[*********************100%***********************]  1 of 1 completed\n",
      "[*********************100%***********************]  1 of 1 completed\n",
      "[*********************100%***********************]  1 of 1 completed\n",
      "[*********************100%***********************]  1 of 1 completed\n",
      "[*********************100%***********************]  1 of 1 completed\n",
      "[*********************100%***********************]  1 of 1 completed\n",
      "[*********************100%***********************]  1 of 1 completed\n"
     ]
    }
   ],
   "source": [
    "for stock in stock_symbols_ftse_mib:\n",
    "  df = yf.download(stock, start=\"2017-06-08\", end=\"2022-06-08\")\n",
    "  df.to_csv(\"./Datasets/\"+stock+\".csv\")\n"
   ]
  },
  {
   "cell_type": "markdown",
   "metadata": {},
   "source": [
    "Calculate log returns for each stock"
   ]
  },
  {
   "cell_type": "code",
   "execution_count": 53,
   "metadata": {},
   "outputs": [],
   "source": [
    "for stock in stock_symbols_ftse_mib:\n",
    "  df = pd.read_csv(\"./Datasets/\"+stock+\".csv\")\n",
    "  df[\"log_ret\"] = np.log(df[\"Close\"]) - np.log(df[\"Close\"].shift(1))\n",
    "  df.to_csv(\"./Datasets/\"+stock+\".csv\")"
   ]
  },
  {
   "cell_type": "code",
   "execution_count": 8,
   "metadata": {},
   "outputs": [],
   "source": [
    "import statsmodels.api as sm\n",
    "from statsmodels import regression"
   ]
  },
  {
   "cell_type": "code",
   "execution_count": 28,
   "metadata": {},
   "outputs": [],
   "source": [
    "df = pd.read_csv(\"./Datasets/\"+\"A2A.MI\"+\".csv\")\n",
    "df_ftsemib = pd.read_csv(\"./Datasets/\"+\"FTSEMIB.MI\"+\".csv\")\n",
    "df = df.dropna()\n",
    "df_ftsemib = df_ftsemib.dropna()\n",
    "rolling_number = 0\n",
    "df_ftsemib = df_ftsemib[rolling_number: rolling_number+180]\n",
    "df = df[rolling_number: rolling_number+180]\n"
   ]
  },
  {
   "cell_type": "code",
   "execution_count": 29,
   "metadata": {},
   "outputs": [
    {
     "data": {
      "text/plain": [
       "(180, 9)"
      ]
     },
     "execution_count": 29,
     "metadata": {},
     "output_type": "execute_result"
    }
   ],
   "source": [
    "df.shape"
   ]
  },
  {
   "cell_type": "code",
   "execution_count": 30,
   "metadata": {},
   "outputs": [
    {
     "data": {
      "text/plain": [
       "(180, 9)"
      ]
     },
     "execution_count": 30,
     "metadata": {},
     "output_type": "execute_result"
    }
   ],
   "source": [
    "df_ftsemib.shape"
   ]
  },
  {
   "cell_type": "code",
   "execution_count": 36,
   "metadata": {},
   "outputs": [
    {
     "name": "stdout",
     "output_type": "stream",
     "text": [
      "                            OLS Regression Results                            \n",
      "==============================================================================\n",
      "Dep. Variable:                log_ret   R-squared:                       0.294\n",
      "Model:                            OLS   Adj. R-squared:                  0.290\n",
      "Method:                 Least Squares   F-statistic:                     73.97\n",
      "Date:                Wed, 08 Jun 2022   Prob (F-statistic):           4.01e-15\n",
      "Time:                        17:50:09   Log-Likelihood:                 572.49\n",
      "No. Observations:                 180   AIC:                            -1141.\n",
      "Df Residuals:                     178   BIC:                            -1135.\n",
      "Df Model:                           1                                         \n",
      "Covariance Type:            nonrobust                                         \n",
      "==============================================================================\n",
      "                 coef    std err          t      P>|t|      [0.025      0.975]\n",
      "------------------------------------------------------------------------------\n",
      "const         -0.0007      0.001     -0.944      0.346      -0.002       0.001\n",
      "log_ret        0.7795      0.091      8.601      0.000       0.601       0.958\n",
      "==============================================================================\n",
      "Omnibus:                       57.449   Durbin-Watson:                   1.953\n",
      "Prob(Omnibus):                  0.000   Jarque-Bera (JB):              329.345\n",
      "Skew:                           1.031   Prob(JB):                     3.05e-72\n",
      "Kurtosis:                       9.298   Cond. No.                         120.\n",
      "==============================================================================\n",
      "\n",
      "Notes:\n",
      "[1] Standard Errors assume that the covariance matrix of the errors is correctly specified.\n",
      "Alpha: -0.000712683503097889 - Beta: 0.7794690437372455\n"
     ]
    }
   ],
   "source": [
    "y = df[\"log_ret\"]\n",
    "X = df_ftsemib[\"log_ret\"]\n",
    "X = sm.add_constant(X)\n",
    "model = regression.linear_model.OLS(y, X).fit()\n",
    "print(model.summary())\n",
    "print(\"Alpha: %s - Beta: %s\" % (model.params[0], model.params[1]))\n"
   ]
  },
  {
   "cell_type": "code",
   "execution_count": 5,
   "metadata": {},
   "outputs": [],
   "source": [
    "from tqdm import tqdm\n",
    "import os\n"
   ]
  },
  {
   "cell_type": "code",
   "execution_count": 60,
   "metadata": {},
   "outputs": [
    {
     "name": "stderr",
     "output_type": "stream",
     "text": [
      "100%|██████████| 41/41 [00:26<00:00,  1.55it/s]\n"
     ]
    }
   ],
   "source": [
    "df_ftsemib = pd.read_csv(\"./Datasets/\"+\"FTSEMIB.MI\"+\".csv\")\n",
    "df_ftsemib = df_ftsemib.dropna()\n",
    "for stock in tqdm(stock_symbols_ftse_mib):\n",
    "  df = pd.read_csv(\"./Datasets/\"+stock+\".csv\")\n",
    "  df = df.dropna()\n",
    "  time_index = 0\n",
    "  for time_index in range(0, len(df_ftsemib), 7):\n",
    "    if time_index + 180 < df.shape[0]:\n",
    "      time_window_stock = df[time_index: time_index+180]\n",
    "      time_window_ftsemib = df_ftsemib[time_index: time_index+180]\n",
    "      X = time_window_ftsemib[\"log_ret\"]\n",
    "      y = time_window_stock[\"log_ret\"]\n",
    "      X = sm.add_constant(X)\n",
    "      model = regression.linear_model.OLS(y, X).fit()\n",
    "      if not os.path.exists(\"./Models/\"+stock):\n",
    "        os.makedirs(\"./Models/\"+stock)\n",
    "      model.save(\"./Models/\"+stock+\"/\"+str(time_index)+\".pickle\")\n",
    "    \n",
    "    "
   ]
  },
  {
   "cell_type": "markdown",
   "metadata": {},
   "source": [
    "Extract from each model the parameters"
   ]
  },
  {
   "cell_type": "code",
   "execution_count": 4,
   "metadata": {},
   "outputs": [],
   "source": [
    "dataframe_columns = [\"Stock Symbol\",\"Week Number\",\"Alpha\",\"Beta\",\"R-Squared\",\"Risk\",\"Res Std. Error\", \"Stock Weekly Return\"]"
   ]
  },
  {
   "cell_type": "code",
   "execution_count": 9,
   "metadata": {},
   "outputs": [],
   "source": [
    "# from statsmodels.iolib.smpickle import load_pickle\n",
    "import math\n",
    "import numpy as np\n",
    "\n",
    "results_df = pd.DataFrame(columns=dataframe_columns)\n",
    "df_ftsemib = pd.read_csv(\"./Datasets/\"+\"FTSEMIB.MI\"+\".csv\")\n",
    "for sym in stock_symbols_ftse_mib:\n",
    "  i=0\n",
    "  current_stock_dataset = pd.read_csv(\"./Datasets/\"+sym+\".csv\")\n",
    "  for file in os.listdir(\"./Models/\"+sym):\n",
    "    model = sm.load(\"./Models/\"+sym+\"/\"+file)\n",
    "    last_week_ret = current_stock_dataset.iloc[180+(i-7)][\"log_ret\"]\n",
    "    current_week_ret = current_stock_dataset.iloc[180+i][\"log_ret\"]\n",
    "    week_data = current_stock_dataset.iloc[180+(i-7):180+i]\n",
    "    week_data_returns= np.exp(week_data[\"log_ret\"])\n",
    "    weekly_return = current_week_ret-last_week_ret\n",
    "    results_df.loc[len(results_df)] = [sym, i, model.params[0],\n",
    "                                       model.params[1], model.rsquared,week_data_returns.var(), model.ess, weekly_return]\n",
    "    i+=7\n",
    "results_df.to_csv(\"./results.csv\")\n"
   ]
  },
  {
   "cell_type": "code",
   "execution_count": 10,
   "metadata": {},
   "outputs": [
    {
     "data": {
      "text/html": [
       "<div>\n",
       "<style scoped>\n",
       "    .dataframe tbody tr th:only-of-type {\n",
       "        vertical-align: middle;\n",
       "    }\n",
       "\n",
       "    .dataframe tbody tr th {\n",
       "        vertical-align: top;\n",
       "    }\n",
       "\n",
       "    .dataframe thead th {\n",
       "        text-align: right;\n",
       "    }\n",
       "</style>\n",
       "<table border=\"1\" class=\"dataframe\">\n",
       "  <thead>\n",
       "    <tr style=\"text-align: right;\">\n",
       "      <th></th>\n",
       "      <th>Stock Symbol</th>\n",
       "      <th>Week Number</th>\n",
       "      <th>Alpha</th>\n",
       "      <th>Beta</th>\n",
       "      <th>R-Squared</th>\n",
       "      <th>Risk</th>\n",
       "      <th>Res Std. Error</th>\n",
       "      <th>Stock Weekly Return</th>\n",
       "    </tr>\n",
       "  </thead>\n",
       "  <tbody>\n",
       "    <tr>\n",
       "      <th>0</th>\n",
       "      <td>A2A.MI</td>\n",
       "      <td>0</td>\n",
       "      <td>-0.000713</td>\n",
       "      <td>0.779469</td>\n",
       "      <td>0.293579</td>\n",
       "      <td>0.000174</td>\n",
       "      <td>0.007567</td>\n",
       "      <td>-0.018795</td>\n",
       "    </tr>\n",
       "    <tr>\n",
       "      <th>1</th>\n",
       "      <td>A2A.MI</td>\n",
       "      <td>7</td>\n",
       "      <td>-0.000081</td>\n",
       "      <td>-0.035455</td>\n",
       "      <td>0.000753</td>\n",
       "      <td>0.000279</td>\n",
       "      <td>0.000026</td>\n",
       "      <td>0.003708</td>\n",
       "    </tr>\n",
       "    <tr>\n",
       "      <th>2</th>\n",
       "      <td>A2A.MI</td>\n",
       "      <td>14</td>\n",
       "      <td>-0.000423</td>\n",
       "      <td>-0.039381</td>\n",
       "      <td>0.000963</td>\n",
       "      <td>0.000132</td>\n",
       "      <td>0.000034</td>\n",
       "      <td>0.019859</td>\n",
       "    </tr>\n",
       "    <tr>\n",
       "      <th>3</th>\n",
       "      <td>A2A.MI</td>\n",
       "      <td>21</td>\n",
       "      <td>-0.000870</td>\n",
       "      <td>-0.048152</td>\n",
       "      <td>0.001466</td>\n",
       "      <td>0.000078</td>\n",
       "      <td>0.000052</td>\n",
       "      <td>-0.027421</td>\n",
       "    </tr>\n",
       "    <tr>\n",
       "      <th>4</th>\n",
       "      <td>A2A.MI</td>\n",
       "      <td>28</td>\n",
       "      <td>-0.001095</td>\n",
       "      <td>-0.067737</td>\n",
       "      <td>0.003573</td>\n",
       "      <td>0.000200</td>\n",
       "      <td>0.000146</td>\n",
       "      <td>0.020515</td>\n",
       "    </tr>\n",
       "  </tbody>\n",
       "</table>\n",
       "</div>"
      ],
      "text/plain": [
       "  Stock Symbol Week Number     Alpha      Beta  R-Squared      Risk  \\\n",
       "0       A2A.MI           0 -0.000713  0.779469   0.293579  0.000174   \n",
       "1       A2A.MI           7 -0.000081 -0.035455   0.000753  0.000279   \n",
       "2       A2A.MI          14 -0.000423 -0.039381   0.000963  0.000132   \n",
       "3       A2A.MI          21 -0.000870 -0.048152   0.001466  0.000078   \n",
       "4       A2A.MI          28 -0.001095 -0.067737   0.003573  0.000200   \n",
       "\n",
       "   Res Std. Error  Stock Weekly Return  \n",
       "0        0.007567            -0.018795  \n",
       "1        0.000026             0.003708  \n",
       "2        0.000034             0.019859  \n",
       "3        0.000052            -0.027421  \n",
       "4        0.000146             0.020515  "
      ]
     },
     "execution_count": 10,
     "metadata": {},
     "output_type": "execute_result"
    }
   ],
   "source": [
    "results_df.head()\n"
   ]
  }
 ],
 "metadata": {
  "interpreter": {
   "hash": "e850eec08e9669c52e782ee28b71a07544c9e38f5af88e96f29f06e82864309f"
  },
  "kernelspec": {
   "display_name": "Python 3.10.1 64-bit",
   "language": "python",
   "name": "python3"
  },
  "language_info": {
   "codemirror_mode": {
    "name": "ipython",
    "version": 3
   },
   "file_extension": ".py",
   "mimetype": "text/x-python",
   "name": "python",
   "nbconvert_exporter": "python",
   "pygments_lexer": "ipython3",
   "version": "3.10.1"
  },
  "orig_nbformat": 4
 },
 "nbformat": 4,
 "nbformat_minor": 2
}
