{
 "cells": [
  {
   "cell_type": "code",
   "execution_count": 2,
   "metadata": {},
   "outputs": [
    {
     "name": "stdout",
     "output_type": "stream",
     "text": [
      "Requirement already satisfied: yfinance in c:\\users\\ruben\\appdata\\local\\programs\\python\\python310\\lib\\site-packages (0.1.70)\n",
      "Requirement already satisfied: lxml>=4.5.1 in c:\\users\\ruben\\appdata\\local\\programs\\python\\python310\\lib\\site-packages (from yfinance) (4.9.0)\n",
      "Requirement already satisfied: requests>=2.26 in c:\\users\\ruben\\appdata\\local\\programs\\python\\python310\\lib\\site-packages (from yfinance) (2.27.1)\n",
      "Requirement already satisfied: pandas>=0.24.0 in c:\\users\\ruben\\appdata\\local\\programs\\python\\python310\\lib\\site-packages (from yfinance) (1.3.5)\n",
      "Requirement already satisfied: numpy>=1.15 in c:\\users\\ruben\\appdata\\local\\programs\\python\\python310\\lib\\site-packages (from yfinance) (1.22.0)\n",
      "Note: you may need to restart the kernel to use updated packages.Requirement already satisfied: multitasking>=0.0.7 in c:\\users\\ruben\\appdata\\local\\programs\\python\\python310\\lib\\site-packages (from yfinance) (0.0.10)\n"
     ]
    },
    {
     "name": "stderr",
     "output_type": "stream",
     "text": [
      "WARNING: You are using pip version 21.2.4; however, version 22.1.2 is available.\n",
      "You should consider upgrading via the 'c:\\Users\\Ruben\\AppData\\Local\\Programs\\Python\\Python310\\python.exe -m pip install --upgrade pip' command.\n"
     ]
    },
    {
     "name": "stdout",
     "output_type": "stream",
     "text": [
      "\n",
      "Requirement already satisfied: pytz>=2017.3 in c:\\users\\ruben\\appdata\\local\\programs\\python\\python310\\lib\\site-packages (from pandas>=0.24.0->yfinance) (2021.3)\n",
      "Requirement already satisfied: python-dateutil>=2.7.3 in c:\\users\\ruben\\appdata\\local\\programs\\python\\python310\\lib\\site-packages (from pandas>=0.24.0->yfinance) (2.8.2)\n",
      "Requirement already satisfied: six>=1.5 in c:\\users\\ruben\\appdata\\local\\programs\\python\\python310\\lib\\site-packages (from python-dateutil>=2.7.3->pandas>=0.24.0->yfinance) (1.16.0)\n",
      "Requirement already satisfied: certifi>=2017.4.17 in c:\\users\\ruben\\appdata\\local\\programs\\python\\python310\\lib\\site-packages (from requests>=2.26->yfinance) (2021.10.8)\n",
      "Requirement already satisfied: urllib3<1.27,>=1.21.1 in c:\\users\\ruben\\appdata\\local\\programs\\python\\python310\\lib\\site-packages (from requests>=2.26->yfinance) (1.26.8)\n",
      "Requirement already satisfied: charset-normalizer~=2.0.0 in c:\\users\\ruben\\appdata\\local\\programs\\python\\python310\\lib\\site-packages (from requests>=2.26->yfinance) (2.0.10)\n",
      "Requirement already satisfied: idna<4,>=2.5 in c:\\users\\ruben\\appdata\\local\\programs\\python\\python310\\lib\\site-packages (from requests>=2.26->yfinance) (3.3)\n"
     ]
    }
   ],
   "source": [
    "%pip install yfinance"
   ]
  },
  {
   "cell_type": "code",
   "execution_count": 11,
   "metadata": {},
   "outputs": [],
   "source": [
    "import pandas as pd\n",
    "import numpy as np\n",
    "import yfinance as yf\n"
   ]
  },
  {
   "cell_type": "code",
   "execution_count": 9,
   "metadata": {},
   "outputs": [],
   "source": [
    "stock_symbols_ftse_mib = [\"A2A.MI\", \"AMP.MI\", \"ATL.MI\", \"AZM.MI\", \"BAMI.MI\", \"BGN.MI\", \"BMED.MI\", \"BPE.MI\", \"BZU.MI\", \"CNHI.MI\", \"CPR.MI\", \"DIA.MI\", \"ENEL.MI\", \"ENI.MI\", \"EXO.MI\", \"FBK.MI\", \"G.MI\", \"HER.MI\",\n",
    "                          \"IG.MI\", \"INW.MI\", \"IP.MI\", \"ISP.MI\", \"LDO.MI\", \"MB.MI\", \"MONC.MI\", \"NEXI.MI\", \"PIRC.MI\", \"PRY.MI\", \"PST.MI\", \"RACE.MI\", \"REC.MI\", \"SMP.MI\", \"SRG.MI\", \"STLA.MI\", \"STM.MI\", \"TEN.MI\", \"TIT.MI\", \"TRN.MI\", \"UCG.MI\", \"UNI.MI\"]\n"
   ]
  },
  {
   "cell_type": "code",
   "execution_count": 10,
   "metadata": {},
   "outputs": [
    {
     "name": "stdout",
     "output_type": "stream",
     "text": [
      "[*********************100%***********************]  1 of 1 completed\n",
      "[*********************100%***********************]  1 of 1 completed\n",
      "[*********************100%***********************]  1 of 1 completed\n",
      "[*********************100%***********************]  1 of 1 completed\n",
      "[*********************100%***********************]  1 of 1 completed\n",
      "[*********************100%***********************]  1 of 1 completed\n",
      "[*********************100%***********************]  1 of 1 completed\n",
      "[*********************100%***********************]  1 of 1 completed\n",
      "[*********************100%***********************]  1 of 1 completed\n",
      "[*********************100%***********************]  1 of 1 completed\n",
      "[*********************100%***********************]  1 of 1 completed\n",
      "[*********************100%***********************]  1 of 1 completed\n",
      "[*********************100%***********************]  1 of 1 completed\n",
      "[*********************100%***********************]  1 of 1 completed\n",
      "[*********************100%***********************]  1 of 1 completed\n",
      "[*********************100%***********************]  1 of 1 completed\n",
      "[*********************100%***********************]  1 of 1 completed\n",
      "[*********************100%***********************]  1 of 1 completed\n",
      "[*********************100%***********************]  1 of 1 completed\n",
      "[*********************100%***********************]  1 of 1 completed\n",
      "[*********************100%***********************]  1 of 1 completed\n",
      "[*********************100%***********************]  1 of 1 completed\n",
      "[*********************100%***********************]  1 of 1 completed\n",
      "[*********************100%***********************]  1 of 1 completed\n",
      "[*********************100%***********************]  1 of 1 completed\n",
      "[*********************100%***********************]  1 of 1 completed\n",
      "[*********************100%***********************]  1 of 1 completed\n",
      "[*********************100%***********************]  1 of 1 completed\n",
      "[*********************100%***********************]  1 of 1 completed\n",
      "[*********************100%***********************]  1 of 1 completed\n",
      "[*********************100%***********************]  1 of 1 completed\n",
      "[*********************100%***********************]  1 of 1 completed\n",
      "\n",
      "1 Failed download:\n",
      "- SMP.MI: No data found, symbol may be delisted\n",
      "[*********************100%***********************]  1 of 1 completed\n",
      "[*********************100%***********************]  1 of 1 completed\n",
      "[*********************100%***********************]  1 of 1 completed\n",
      "[*********************100%***********************]  1 of 1 completed\n",
      "[*********************100%***********************]  1 of 1 completed\n",
      "[*********************100%***********************]  1 of 1 completed\n",
      "[*********************100%***********************]  1 of 1 completed\n",
      "[*********************100%***********************]  1 of 1 completed\n"
     ]
    }
   ],
   "source": [
    "for stock in stock_symbols_ftse_mib:\n",
    "  df = yf.download(stock, start=\"2017-06-08\", end=\"2022-06-08\")\n",
    "  df.to_csv(\"./Datasets/\"+stock+\".csv\")\n"
   ]
  },
  {
   "cell_type": "markdown",
   "metadata": {},
   "source": [
    "Calculate log returns for each stock"
   ]
  },
  {
   "cell_type": "code",
   "execution_count": 16,
   "metadata": {},
   "outputs": [],
   "source": [
    "test = pd.read_csv(\"./Datasets/ATL.MI.csv\")"
   ]
  },
  {
   "cell_type": "code",
   "execution_count": 17,
   "metadata": {},
   "outputs": [
    {
     "data": {
      "text/html": [
       "<div>\n",
       "<style scoped>\n",
       "    .dataframe tbody tr th:only-of-type {\n",
       "        vertical-align: middle;\n",
       "    }\n",
       "\n",
       "    .dataframe tbody tr th {\n",
       "        vertical-align: top;\n",
       "    }\n",
       "\n",
       "    .dataframe thead th {\n",
       "        text-align: right;\n",
       "    }\n",
       "</style>\n",
       "<table border=\"1\" class=\"dataframe\">\n",
       "  <thead>\n",
       "    <tr style=\"text-align: right;\">\n",
       "      <th></th>\n",
       "      <th>Unnamed: 0</th>\n",
       "      <th>Date</th>\n",
       "      <th>Open</th>\n",
       "      <th>High</th>\n",
       "      <th>Low</th>\n",
       "      <th>Close</th>\n",
       "      <th>Adj Close</th>\n",
       "      <th>Volume</th>\n",
       "      <th>log_ret</th>\n",
       "    </tr>\n",
       "  </thead>\n",
       "  <tbody>\n",
       "    <tr>\n",
       "      <th>0</th>\n",
       "      <td>0</td>\n",
       "      <td>2017-06-08</td>\n",
       "      <td>25.860001</td>\n",
       "      <td>26.090000</td>\n",
       "      <td>25.620001</td>\n",
       "      <td>25.910000</td>\n",
       "      <td>23.019947</td>\n",
       "      <td>3295679</td>\n",
       "      <td>NaN</td>\n",
       "    </tr>\n",
       "    <tr>\n",
       "      <th>1</th>\n",
       "      <td>1</td>\n",
       "      <td>2017-06-09</td>\n",
       "      <td>25.930000</td>\n",
       "      <td>26.070000</td>\n",
       "      <td>25.790001</td>\n",
       "      <td>26.000000</td>\n",
       "      <td>23.099909</td>\n",
       "      <td>2182808</td>\n",
       "      <td>0.003468</td>\n",
       "    </tr>\n",
       "    <tr>\n",
       "      <th>2</th>\n",
       "      <td>2</td>\n",
       "      <td>2017-06-12</td>\n",
       "      <td>26.020000</td>\n",
       "      <td>26.020000</td>\n",
       "      <td>25.650000</td>\n",
       "      <td>25.650000</td>\n",
       "      <td>22.788946</td>\n",
       "      <td>1748006</td>\n",
       "      <td>-0.013553</td>\n",
       "    </tr>\n",
       "    <tr>\n",
       "      <th>3</th>\n",
       "      <td>3</td>\n",
       "      <td>2017-06-13</td>\n",
       "      <td>25.750000</td>\n",
       "      <td>25.959999</td>\n",
       "      <td>25.629999</td>\n",
       "      <td>25.959999</td>\n",
       "      <td>23.064371</td>\n",
       "      <td>2182772</td>\n",
       "      <td>0.012013</td>\n",
       "    </tr>\n",
       "    <tr>\n",
       "      <th>4</th>\n",
       "      <td>4</td>\n",
       "      <td>2017-06-14</td>\n",
       "      <td>25.900000</td>\n",
       "      <td>26.290001</td>\n",
       "      <td>25.900000</td>\n",
       "      <td>26.180000</td>\n",
       "      <td>23.259832</td>\n",
       "      <td>2761136</td>\n",
       "      <td>0.008439</td>\n",
       "    </tr>\n",
       "  </tbody>\n",
       "</table>\n",
       "</div>"
      ],
      "text/plain": [
       "   Unnamed: 0        Date       Open       High        Low      Close  \\\n",
       "0           0  2017-06-08  25.860001  26.090000  25.620001  25.910000   \n",
       "1           1  2017-06-09  25.930000  26.070000  25.790001  26.000000   \n",
       "2           2  2017-06-12  26.020000  26.020000  25.650000  25.650000   \n",
       "3           3  2017-06-13  25.750000  25.959999  25.629999  25.959999   \n",
       "4           4  2017-06-14  25.900000  26.290001  25.900000  26.180000   \n",
       "\n",
       "   Adj Close   Volume   log_ret  \n",
       "0  23.019947  3295679       NaN  \n",
       "1  23.099909  2182808  0.003468  \n",
       "2  22.788946  1748006 -0.013553  \n",
       "3  23.064371  2182772  0.012013  \n",
       "4  23.259832  2761136  0.008439  "
      ]
     },
     "execution_count": 17,
     "metadata": {},
     "output_type": "execute_result"
    }
   ],
   "source": [
    "test.head()"
   ]
  },
  {
   "cell_type": "code",
   "execution_count": 12,
   "metadata": {},
   "outputs": [],
   "source": [
    "for stock in stock_symbols_ftse_mib:\n",
    "  df = pd.read_csv(\"./Datasets/\"+stock+\".csv\")\n",
    "  df[\"log_ret\"] = np.log(df[\"Close\"]) - np.log(df[\"Close\"].shift(1))\n",
    "  df.to_csv(\"./Datasets/\"+stock+\".csv\")"
   ]
  }
 ],
 "metadata": {
  "interpreter": {
   "hash": "e850eec08e9669c52e782ee28b71a07544c9e38f5af88e96f29f06e82864309f"
  },
  "kernelspec": {
   "display_name": "Python 3.10.1 64-bit",
   "language": "python",
   "name": "python3"
  },
  "language_info": {
   "codemirror_mode": {
    "name": "ipython",
    "version": 3
   },
   "file_extension": ".py",
   "mimetype": "text/x-python",
   "name": "python",
   "nbconvert_exporter": "python",
   "pygments_lexer": "ipython3",
   "version": "3.10.1"
  },
  "orig_nbformat": 4
 },
 "nbformat": 4,
 "nbformat_minor": 2
}
